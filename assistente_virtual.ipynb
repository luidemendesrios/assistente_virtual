{
  "nbformat": 4,
  "nbformat_minor": 0,
  "metadata": {
    "colab": {
      "provenance": [],
      "authorship_tag": "ABX9TyOivFFeZ7gdSmGqKkvztWBe",
      "include_colab_link": true
    },
    "kernelspec": {
      "name": "python3",
      "display_name": "Python 3"
    },
    "language_info": {
      "name": "python"
    }
  },
  "cells": [
    {
      "cell_type": "markdown",
      "metadata": {
        "id": "view-in-github",
        "colab_type": "text"
      },
      "source": [
        "<a href=\"https://colab.research.google.com/github/luidemendesrios/assistente_virtual/blob/main/assistente_virtual.ipynb\" target=\"_parent\"><img src=\"https://colab.research.google.com/assets/colab-badge.svg\" alt=\"Open In Colab\"/></a>"
      ]
    },
    {
      "cell_type": "markdown",
      "source": [
        "# Módulo -  transformação de texto em áudio (text to speech)"
      ],
      "metadata": {
        "id": "EhhTzR5-tn63"
      }
    },
    {
      "cell_type": "code",
      "source": [
        "# Instalar a biblioteca gTTS\n",
        "!pip install gTTS\n",
        "\n",
        "# Importar a biblioteca gTTS\n",
        "from gtts import gTTS\n",
        "\n",
        "# Definir o texto a ser convertido em áudio\n",
        "text_to_say = \"Ciao, benvenuto e sentiti a casa\"\n",
        "\n",
        "# Definir o idioma do texto (Italiano)\n",
        "language = \"it\"\n",
        "\n",
        "# Criar um objeto gTTS com o texto e idioma definidos\n",
        "# O parâmetro 'slow' é definido como False para uma velocidade normal\n",
        "gtts = gTTS(text=text_to_say, lang=language, slow=False)\n",
        "\n",
        "# Salvar o áudio gerado em um arquivo WAV\n",
        "gtts.save(\"/content/gtts.wav\")\n",
        "\n",
        "# Importar a biblioteca para reproduzir o áudio\n",
        "from IPython.display import Audio\n",
        "\n",
        "# Reproduzir o áudio gerado\n",
        "Audio(\"/content/gtts.wav\")\n",
        "\n"
      ],
      "metadata": {
        "colab": {
          "base_uri": "https://localhost:8080/",
          "height": 197
        },
        "id": "nl8cIFgZwJh1",
        "outputId": "cb48708b-9135-4491-f904-c42634a8b231"
      },
      "execution_count": null,
      "outputs": [
        {
          "output_type": "stream",
          "name": "stdout",
          "text": [
            "Requirement already satisfied: gTTS in /usr/local/lib/python3.11/dist-packages (2.5.4)\n",
            "Requirement already satisfied: requests<3,>=2.27 in /usr/local/lib/python3.11/dist-packages (from gTTS) (2.32.3)\n",
            "Requirement already satisfied: click<8.2,>=7.1 in /usr/local/lib/python3.11/dist-packages (from gTTS) (8.1.8)\n",
            "Requirement already satisfied: charset-normalizer<4,>=2 in /usr/local/lib/python3.11/dist-packages (from requests<3,>=2.27->gTTS) (3.4.1)\n",
            "Requirement already satisfied: idna<4,>=2.5 in /usr/local/lib/python3.11/dist-packages (from requests<3,>=2.27->gTTS) (3.10)\n",
            "Requirement already satisfied: urllib3<3,>=1.21.1 in /usr/local/lib/python3.11/dist-packages (from requests<3,>=2.27->gTTS) (2.3.0)\n",
            "Requirement already satisfied: certifi>=2017.4.17 in /usr/local/lib/python3.11/dist-packages (from requests<3,>=2.27->gTTS) (2024.12.14)\n"
          ]
        },
        {
          "output_type": "execute_result",
          "data": {
            "text/plain": [
              "<IPython.lib.display.Audio object>"
            ],
            "text/html": [
              "\n",
              "                <audio  controls=\"controls\" >\n",
              "                    <source src=\"data:audio/x-wav;base64,//OExAAAAAAAAAAAAAAAAAAAAAAAAAAAAAAAAAAAAAAAAAAAAAAAAAAAAAAAAAAAAAAAAAAAAAAAAAAAAAAAAAAAAAAAAAAAAAAAAAAAAAAAAAAAAAAAAAAAAAAAAAAAAAAAAAAAAAAAAAAAAAAAAAAAAAAAAAAAAAAAAAAAAAAAAAAAAAAAAAAAAAAAAAAAAAAAAAAAAAAAAAAAAAAAAAAAAAAAAAAAAAAAAAAAAAAAAAAAAAAAAAAAAAAAAAAA//OExAAn1BH4AMGG3Qhi83vbmpvF868blkYjFjdyWXb/aTGnb+MaIggQIEAAFng4WTBwGFkwAQBAAACAACI39sgECECYDCyZMmTvWMCJTKIRzydn3rPbEMv47wOLiF/HdxbubuSAAinEQDA3d3d3RECCLE9C4VNNPRET9z3P/9NEL/len9f8OL8nNERHcOLd3FmiFoiIj6F/1PTOIju57u7oiIAAAAIAw8PDw9U5ljsCMMF5GcS+/Zlm7dBLc60r//OExBMlm0oUAVkwAbM9f+Z7lRW93aM0oqK1IefjOesqLIeT4wiMHLO1MkvTDXOU39IOPs3Q57xhltZ0YQ6aPMLe9iF13Oin6D37hSq+TF18jdKRrE4z7JdHoVWN3wqys8f53xNvcRtoPrf7k4zN33W+TbS7tlZ6ZrbD3zxsH1fxx3eIREBijSiWuQqc28i/ijOWKGQizx07B93LlI/9TOryXTMRj7rFf3H5aHemvCasTpxPoW0xPb5pDb4+08ZC//OExC8xpDI4AZh4AfOMPWPjHj2j4muTt8jKH/H1jVs588kTF7zLM9UC5MDHrfzjGv821T19Ln/QTcOcy1lnTiF/X+vn3xrHnvuHX3vvWWx4/eKwy8NQsacuyffxn6p/9/7zum/AxT61qPj53jb613xfGVGQ45cGRwePPj///5+cf/6//vjNsa970treqX+MfXZDfHrVaFw7aUigUceI8z6bzAAKBHL/5Lhkxdtj+n3NOivv+KfM20/KP+w5cUVj//OExBsrnCKcAYFYALjtOeVj2PU3T4fJuaIDoHeXD2eJJ4CMvBAHjuj+91XI/kskLMlyQYmD3EEO+FB9l/fbLvZ283Jdj8PhcTEGnFxQHQQIDwHqG8UiwlDxNvvPwxkvqGRqIGg9l508cMmG547VKE8byWB8bhYaHQSiBHsNzd48HKr7//v///MWuYft7WW9Con/Z+gThvokMObHO7Q2OTXj88y89yBlM50zM/MzM/NOvOd8z8zuU2+zL69tpw/Q//OExB8so66sAcFgAZhbHbC/iHYuOH8nBJL7RVNmiIWDecQ7r9scVPIDCJe00wdtrm6ExYvO43Ehyrwsbyw7I1FbUK8rwjocoZoYph7I5gUzJp456Vg4Dybnd8Xs0H8umRifCssCQqieXNSPD5mmYM2DikFCwhq0LUJ9Ef3QjDFufHEy9zFHV+Y205dm2LHDxqKrcL/0Yp5Out/Y4lJuIIX89aHidTBwu2vbaHz7Ov/2fPPDWMczZfxLHR291XUP//OExB8tY7KwADLY3S0b0Q1HcPUG0ILqnXWSh3GpouO4cmQ/gGjqKDUmFLVSqnrXazxyUXU508JMC6FK52RzNIFdT2yaFcX1i60SiNkSSoSUr25zsKRGsTRpLVgfttXZPjr0YlN3WRB0ZA1Kokoyyva46Rs0quqjd+i4+SsbtO3vxLS17SzXruRezKxVQ6u27f5szSbRxZ4AcGoURs3Mgn033lX4LXOaXgZqtaHjMWIgHyGCjUQbyNL4X478vg11//OExBwq46qcAMsM3N+LACBYtOBZK07P4K6fRFcG640TNrbQHcd35Wbs0yd+H2mT5OIIBT2OJqzNft/7HxzSF1sknrp0tMa48y62/ubAUWibRJJ8eTYz95NI4cayTP9ZOjZ6VJPKX5oTMEqglVNjmm3MQaRoaQPAKmOqceqSrZx5fP+1f/1//rt+3n9mrXbX25+YjKKMPLgeQxLhpbz9KYmGqo0kwtvQqrwTMotHKrwkasDAiodUTAYAdEUDFNnJ//OExCMum8qQAN4K3Y8I0EVY0ws4vatYXmjVH9w2A9vJAglQWPYjSUy9cKZdlPp93KluF5g9DRLBtCvzi0IZrUTqSfGvW3ap5B27G62qlmf5LJTau5xj7k5FO8x7xP0/7xcXdJ1Z5SodnIKGHhAIioqNpqxasZTFI7C71HowllKS4kKD3E90Ilf//9cisc5DC+jdVSpHEg67oo8o8Qyqiqbkc34K3chsCK1L5ZaMIgk8uQSgrqjS2w5ID87pMJMR//OExBsmgi6cANaamBCKLKnjMGtW7LI+Ahksiid40ElbCjGJhIFjfAJKtnEGe2MonZ1i3OK9rOBIsoIWoPIuiSB9VDkPOifspQ7DynMM4fmRMKSzo7zxkkJ+eSNy9ZBv+nqQR0WqX9ad2oJk06tjMMAsdNlhDAMFpEJnlHYCFRC3//00jyBT/1N3pUjKq8RiEyXUywoKl4xNEgwWgxNVAwmY2YJ50XjspSIy3cLkwECtxEuWJGZiGiFGqGAUpAy2//OExDQlGj6cANaMuPxOz4YNs3FVG2yiDi63G3lxwejeom405K1Vy5zrP2yvKmlEHWuYLU1EcggOowUktMZslAtGHy7rn///928RuRNV4pmlUITd1dn+nUVi5RtZS6LJPIGC6HsKv///3CsBtRXnYyBsStF0QgzehH/biBiQsplaR4/LcpaRptwcFHxEYC3XZdhZB8FtNEQhuRHCMysw2zT8EqoASsAxr+vGrt1Zh/HP1TuW4tJDEBwLg+lmw1hV//OExFIoOjqUANZSuBbV0YHXo402+kjzpyImSQkKH7kMa/RsuYTQ2sIiaUUT5w///vz3bnUvOEk6zIpXmOr9mKFCrBujSJpEDQXMOQw46lDSVo8KPp//9SSlqhzC2sg4hWDo2WEpEulIWDGyNqWqHGSAgZ0z8KBA9ml2juY+VGkoYzhtMp8BYg3TH6QngZc9FUEoFBEIyG0Ybm6UDuG0qBn/lUavx+GqOH5VDMzVfaBnfe9DFeLhvU9kOTMkqFgx//OExGQnCjaUANZMuNaqrCm9KrNyNQxybwfyn3////x2emesmN3rc21OQfXP3ujI2E2DomYyG5xFEVUiAyb3f//WosYMVa0ytIXDu1BIIQJxM+MWKi6bhmExowiXYhbPGwinNyo1rzQFEZIdEgrXBBAKGAqIYkaCYIBEQQMFValA19czpQTqntQzVlm5FKqWkxtzMzbs0Y/C82BQPY7CsmlyFIWe6as+3xDvVYzq3R017Zv//79tzNWxbij2rT5d//OExHolQiqYANZWmE9z4a6n2oEgzUtS6hqbUgE5GlV2Uf/8wws/6OX0PQOSgkwI8BWWQABIGDUwDCRB4kMHjgIjgkiwWMchUIFSGgIOk08AjMTwbsZ0zkogc4mxYMCjdI3Scxut2KQ1HqeKxGmpKWmu17Mukmc9Eo/IHliT8tZnL0trY52b9a/21vvMub5KRomg8MXev+vepZjsglCOgMuZKiVBCRJ2Uhnb/rmW3ORkbeZXM8pLf/////mcxkGW//OExJgnK4KQANYEvM5lNf9ChlO4yRaBSMDBY2QrRIMGLBIaEISZiEmKDpkq2c+dCg8ZIZGnlBgI8QMApouEBgB6oWiN6sQwiWZ23HWoy5hy5metdaDIspdLZmkl0uxzq3K0/ZpcsKG7VisqZ1B0BNekHJvKtbldgTqMpxjmpoBIzuYz9v/1ucji5L65U6HKUimKzf//bw5VHkxEA2CRP//qnmjTA/rVR/OrqJvnRg6qQAqhoAVjGspcxhiakuY///OExK4mQqKEAN5EuFpgsAZaAkiYYaEA0AMlDlECUWYIyZ0WbBaFhpGkMmGY6AAocNZa5L7uLCIZh2aprdrK5WzprN2Z1Znbsp+mo6B2rzPnfjsE6pqP5UYULuNXE5ZwRGhF309Tpxx27//aOms5w6arG9/spu///9HR0HzlMPHRweU6RYsFj3//W1xGDUV7r3N/GuBVSlpCIlOmUgoJnBjIKQBJEDFZrBspAIzA9CJM2JzOWEzgVMKADCwhDsYs//OExMgnwrp0AN6OuDCMUYJ6a5GZEOchOGSC/zlN8yyTPNNR+llEqvT9NexuVM87fLNvKx9BemuYyCApFL2Zcj1q7Z5n9TWrU1IYzJ+0loqIvO39///+pf92vZV///6aOQoNBCg3Wn////88O5E/olnemP/N//9//mcANX6knHwcNxCBjGSEOLCswkRwdLDDQUMxgQxKCAIP06jIYQMTigxsMwEKzAYOC4OMLgUwoDRCEBGBgcHzBwfOMVT5MiCB//OExNwne0ZsAN6EvcBAgN3YfiL6zlaNVo1lYtat41bHKs7OYVqaXa3cyuUtxuT326Kt93HGjpreUjjVJXs/+X6z5+f71////++qe3///mclXIS7mtv1Z1omzkIBWDwcCI4FKJr7N///xiQ6HSGYomIipGQzmOcsYxWMZ1Kwld0O62RNFypegwwPavelWwCJwamE4NLZkwkmBjoaBAgOERCEjAwWMSiAwuHjBoUMHg0wwCQAARQBEoKDAiJBAwUH//OExPEvZAZgAOaK3cRhYnGRvVVjS6Wtt9FsvrUcVpotjLrFH+XcO/lzOlqxm3bm5ZYhGdy/HYZhqGbsOzMohqfj1DBknx+7jnvfL35X9a/8+/+3q4/+tda+/4/v//mtTBVB0Zv1fXFbW8FD1b3ZBUUEUZjO2zi5pDVPvmJ+4nllaoPoq0Q4PRFPAUBuCgs9KOu9+O7g9nZWNs68hp1SzeK8Uw4V/9iqRYMb4oCHcyMPjUpAMlkQySHkkQQBVxKG//OExOYzW7ZUAOYQ3Y4CEagUFY6YHBwJA5ZgwgBS/iGQhBwCuaYUALsNScgk0VhXB/I5ePmGrGZ7h/WsHdMX76Nd9FkQ1ZP5+qFI5Tw5E6qHaGpJeZ1Rd5W81p7xY8HE8aFj73v4t279tnf+z02fP8Lif2+9snGpZWOwYF1dS+ZV1nZIuar1uu2MkckxsZrvNN05x87t5Vlv2vTBwrN6JqREbZEFDEgEjv70zqeYzYoGcoKOLRk6lmMSxd/5HO5V//OExMsyi8JEAOPM3QwhOb5DUXgzs8MXBSIBQBiwDK030uS1pgAOwaOtojWBAhG1NRB8IBhvCRAC8GgKQaJK6EkLC2T1OlX1PFc7lXbyC2tqlL47VKpgQnTerJa1VrFGYma+m5XN6ptHSTnrcXMVrT0bcKNvcLFtYznHY8LAWVJ4ZW/DtOywki+1LDEaqxTVrxqvCFH5+XmeslMox8RZViOtYyIyDOMBSgxNITZVVgzKRVaKix+9uaqGalijE7L6//OExLMts8owANvG3Bir3lkyDxfBHAMKCjJoBooxgQjBgJfFG1okEwBN0zAVBZhNMxBXSlavVr0dhqfaS/MhdqXW61FjNW5h/n+uVr1eMy3l79XabPC1P0t3HWsaXPQ4zAwu1EsxuGmfVUvZ+hj2BNNv+8Y1/qGWhMp+UMoRZE3A0MvVYSkdtGqBFVfCaTL7y+5MXlYuq6bXsqRLd85Fi5HKbjuuHLt/i4JWxVU8V/8VI+s4CBLif1hsZk01OO9L//OExK8n0oIgAM4GueW2I9J3RjMNRqGZVVWNAll7pQvPi6huONe/DkR+4Y9e67Jz3vytas1dvRr8g+K/1nIc6seZS0eZeLc7ft/04Rk6WJ7zqG9UqhdUWSgdQiIzMlhGRo6g5aNOwt1uRi0B8qq1+IddDIjMo96DZjyZurqsYleyZqeV+5me0pqJOfUnipaS7uBUHHKpI6HKi1LVxxlOsL+fKk/ejNWjkOElJWQYFRHHMm29lgiKaWVtVCOSRIsi//OExMIl87oMAMMG3VEGXazEobidV3+oUpc/c6avoZ54VLN12V1lKayONKWz8kO1jShEEM8wsyJTI1IGTnAa5BCVPIu18UjM8CNcj2jQ2w9gASyyGKHF865bAiYxV2JdjZvMl7DFjhQ6GntMjIM9FoVzOFTFCWnuk1E6J2tPVpuUv59oq0zdqYww3SRTEvziSHyJcDJJVw71sRlh+ep3FbetqUq8fBDLm5G4ycQH8PpN1dQkk+936lm687pG7HNm//OExN0l/AIAAMpG3VYvo5CzH6x9CYx6WGROYh0mIqZnlaAYyDktk/Crq7lJ0SaOwBVpasSZJzSMUnrMtkiZxs14pJ5zLkpsyKRgu70g940sVa0c27eDO8stWFHTaGVts2J7SSNaaSOaqJM1ey/G8U2wxO9kvKtof0T7snrdK7GtZ/29STNitP3t0coiW7cjt0FyeTqso01iU2I4p823InFgskzCmyBdkwKzqtVK2426cCExkGyMHALT5iKCJZNs//OExPgtbDH0ANMM3UwyifFArMRFE4qmUgpawRUg3tRSM7zVUnuNWwBwxWwi8Z8c87Dkb2bROOevaRSqNc+LayZhsJOo3KUmnvLhBK9KOtbdDCBhzdqlVfEKLnHLB4rSklMfLMb923OO3ol6yZ8zkNZSFovNykqFp4Fsxb6ax3iKK7X0+eqem7W/LdTlJPTN2kv03IUvNRsshbZQwA+DQeVUIyFZo7JsmOBiaUrgeOsKbQgK6JUDiOAWURCjUKoq//OExPUtXDH0ANJM3dRkMnplVnuA+abi2LLokesFWrTT/pI5xhRaKKOX11jsteUcSi5qzX7YZSy8+MlkmpFN4dEzkTCajVvZZmyaRTROVBeyReU860F7qzOWXyi9sxMl45FOoLKRWc0xUO2N7HIVMbj69RzWU5fSJmdKaUfau64R1LJqKWN2pU7rdrP/yo6aU51d0tDGcydJM2YXGFyYnDZd6g44a8UTxSeYD5VZdGyktFM0yvr0TZxGJF4UXNrI//OExPItZDH0ANJM3RpM3hMbqlS6tiyMmRFnFUDSMEkgghduas804irQOgUUU6szbQZ1tkFSsbkc2CkfMAVjEpmSyrN6BVmpkini0kTnKMYMZCeLgGv26dYnCu0KLr5KRPhjTsKdsaWJFHmdugbmsnJbQrKak4+RMmms6e8mYWUXBN3CqmW1Ikcj6SuZzeFazdyuWuUn3Z+/rK5Xyp0HhJo6shOqITWtyRolkyhok3fYegeVQPPd1yQoYSmMYTqp//OExO8uhDH0ANJM3WTaTkosWQniZATwPNmTS0zZZM6SK0ygSWR21cp7Ylpp0OkXBz95khGxSB1K5+46CJrPZxUwt+mzmt+gQRTf5BhCEWlpuSvPVa33SZ7pf5GjReXt0jmPEm5iTpYIlaUTb13lsii4SMeWidjf/Cbtk0XW1uWX7i0BQ6opac7jlTdtZYUdN3CQbwiteXU1LJIeKnkAOPMjic2i4RXT0gcJ2rPMKClCpJWaqzTi0yaarbKITNVS//OExOgrVCn4ANJM3YFMEl0hJj6iO2GrtBRql7WJCZzSlhUqMUkajIRK1wghZIo8/zrsx2nJpK3nG3OkU0TizmCSwh4TrUyzDKKnWZZOGtKUjcvE1G3JaM1PPwmz4inBSezS36ZVEe8eux7yUxXTbNNA3y8wkue6srNJmWgrNMc9PDlQ6cx4SMMnCiu1ct9z1Xzvd+1bqQPymmvsapiNItEjWaNRZQKnaYgRiRtZp02AQQh+2hcjPg6ybCbInJiN//OExO0t5DH0ANJM3ZIwsTGSxKSTPhxG809tPrkFzehjKaG5JS2ZP0gkcmWj3TQInLjGKJNp585Q+nTIcis3UpMKolEZXN0uks3GNs85iWMoibSG+LabbIE4MPKisJ36xL7O7tLvnom/nk2g1FjVRiJyKU6rL2N2ECzjsSpEijrrs58IFzr/r/Y8q6R6KkAqJytnvcL9aV6yqVsca2rtmZ1XpcSF38npZMuYUJjbUytH5kx2XIUudPKQJ8Q2WYKt//OExOgt1CH0ANJM3SUafBpNGTNkBlVtxtOMIo2slFJ6sV5TskWXCQTOxAeDhiHxNmWe7TGovNe8DC/HDmqLMpGLgbqRo+hiSnotK+d+nTketwwfq4+ltSy1hFtFdko3YuKqXZGl4WjR7+3Oce0cRJ3DQT2ZEQOJl7mPlXmRy5KrV10Teq2Mslmda9TWpPL7d+3uXxOznLY3KKa5KYxLDpssFs+Nlt0PsPx+OcJRIhhJqQqrxoXq06x+NcfGtnEi//OExOMpbCH4ANJQ3RPL0p6jWuJJXSgPw9VaTCoxRIlsvhbQ4E7HbiYvVOn6OwFKCtWqssT/Mxuw6+zcwow0nhXwSutBd7z23OqVXNMtdSC8FL0O59u1LNwMI6wsWhQ7MvrK+ooyhu2cabo6zh57SKu9ssY39sjva1qPXW9Xly5m1YzyOa9nsRc21b6Hb0n12t12vznNRvvxIeStoikqKACGSGJOPGZEYQZp/1xnOm2E74KAfMYQTgwWwMjl6LyM//OExPAzvDHwAVpgAV0HaZg4g0BIYCIBZhfBKmDiAK8lNZGQqNgKFqDAZmcyxTz1JDhjxKfaAOTHH5HkgAYuXP1S7rSynvvxKmHkoJZIYRMOQNtG3nezq5x1uluXRV/gkMXZYu4y2Fm5/f5bt7gadpr+NqX1Ex3XQBqGPlEd973DPn6u0FH2vaxr21HFuN3YOyxkDTX7yxzw/tTefP/u6HHtJWlt/Kzl78fPM4m4bpKsxesS/e/7r+d7zuOfcc9Y//OExNRIRDoQAZ7QAGWdJhqp3DlLljdxqxeSw9FIxT36eLRipL4/jnbz7+HP7r+b/u8/7zn8pKCzhdx3Yx7V3j/38f3+seP3W7AkKr4dhycp61Bdnr/LEY3aMEYLEw2hDzRsNWMm0Row0yLDbsFLMRAJEwYgoDBIA5MBsCwwiwpTBYAPEAAZhPgUjQB5fls8nMAgAFdyc0pZZYgdPQwHQFjVhDBkRfymuQCiIY8q0HepVrcfWGIg/0gisPxN9XWp//OExGY+43IwAd7QAdTOTF9jKgYrDA8AbtBEopXcyl9+7GccaTGrPxbHOXRuJ19zurFJU7MVK1fK/Vp8Lsbq0lFhDGFaWXL2WdfHXLuVjWOvz/n9y7jV5/btnnNZc5W5S0us+Y85vDPm+/v/zx//wx7l3Xcc9d3zLeXP//x3jzndf/P/vcf139c5r944d+tnZuLsa8lKx+R3Pm3jJTp5N3/zOgaASYIwPhkLoTERQphPjDGaiNeYEIQBKEIAgoAs//OExB0veco8APawlAGGD0AuPAcAUDUwJgIECbA0wp0IZsSbsUAY2FwLP1zAQuJB4qAxSYwyaHlErXvT0Upl8Tt27MopI3LLPWsMUf0ZOxZ9UF5NEIbisqqy+xcn70j7San+Y2KslxsWdZT2Fa5l9vKry5T558+p+7H95cu6wyyxv7EAQCA4i94BcYSBF3OPgOgpuUxbU5B6giQG0cTkBOYR0KOIFyVKg2mlfT/XacMBUynETFIhMFgoKPI1USDC//OExBIsg2J0AOYOvGSTNZ/NSG4wgCjEQkIhIga0ONNbXfIFzrvZewBXEHMrWu/rO0w2VK4WI00ChQHqPgEoCOrGtBvWnpoIaNgXY2jS1jwOrYnRKUEhgAhowtDdsDyRu3SWOb1hqxXlli7K7cxLLGA+JYoBwa4+TMPPRs/v/+//9X6GMjf//0MZSb///nzDJ55w4XMMb1Y89DI+PuPk3QaMPjdw+GAffz/+f+mnfECS5NboAjBY4I2GFmgBwbQP//OExBMsc6KMAN4UvLGPrwOZJaQArrzaTjrzaf0YlCbr9ytnzv3V5PxHG4vfAbYm3g1gUHMBMyWHo3GObUUnEjUAbYVpLkdpzWkNacVw0Gi17SWeuUmG9cScigoqeUy+7S09aepKWQRcEEBggGZo/PJzndeY/////9WU5m6ff/91VHdP//8w1yc9D1U7NVWZzz1MMNs88kc5DjjTUnvuYyk4MBYQOVQtX58JJZmJFVhHpZrZVSha1SMMFMjrgOHW//OExBQs86KUAN4QvOhiAXDTMVoTj0MMnYKZ3TSV9J2ggC9Ugu/dfTDBsFis3Wf0h9EFOzPAMI4qMjj1mqvxk3WGMFtUcuLmq7cdriYcngNlksjz/08ejduZpMIlG7YsDULCEF8aKDpZPn///////////6WJiklp6j//+Y2WlHmx1cfM9P3HTulEHkDSllkZZLaHPhK99nomMZUQif/rTMo4kUYgz6UN2lUBV6GUvEOZwaMYSO0BQ6w4KizGmyYU//OExBMoI6KUANYOvOoZsg9k2hN7cVTsVngke4jAmWECfjPcyr37Tt2ow5FLJ0c4uwAVHNM8LPSmSqYyinZS/EoSqZe25dVwnn04Uh90b+oCtYTVfO7GLMwAwHgChHB+C0oNCRIcsff////+nnOccj/+ujUfQvOXRkc/OsRVTkUbIddz3qyXVSSsabd9HU1Pb99j2UiYtr9tXqVyVMjBpE84uMOCTCUI+9DDEYwIHKLpC4QgZnQiLAMBOVTywIC6//OExCUly0KEANvOvIAO6I5GGjdHYpXyRVDLU8lwTkwi/IUe+pUJb0OT6JeE+USqN0xWY3RqNBMgikKXImq1BTrjbwYrdFcW5yjVccPhqaOAuEpx1lmur0v///9u5hi1s+9Df/01///nKabUatu6vU2mtWapqDxoJB0w3u6S1apxVdGIg2fgDIGGhiloni0kYlAYAHRkojIcWugY7u9QxyTUqgEibKAjNAlyHGdvsIa9TTba3l5u5KZhS2zE30tz//OExEAnW1p0AOYOvW07Wn8vzLWtU652g12vKtf9Hde046F3e+2d1t6yx5QWr9/Du0dJ55E17lxaVNGxiGO9arrTp33SrINhwaiKD8LDMwXqcaTmf////+fU9a6fvm59GOo5jueQYX0hsVW475gRXHphqDAEM3MzMPgwAhUTGkA+nCFAyYRAENxBtbCZaN8nVTDMwJdgCt1v8IITpnMWIyGOsv+kdGzWeXtl96W42GW0EVi8ApbrpmlNFfT8apcK//OExFUlq0pwAOYKvEtf+Wf581juvU7zLbsVWVTOwiUwwyo9Hr9v/65jHFYCh0OiRSlZDG//1dP//mu6FRnej/ffdY8TdRpRgNFh75FPWn+XiZDBHtD4YFGWe5qBaGDAjCg4VVMIht2XyaxZ9BCLkmyCnDdPxW5EubeTpRO1VOxPbMqFMzdGgQm2R03WZI1lMuXN4xMSuvBzv4zvV7/GPrMXW/AetiKyPKVv++qf7f6ubvy173/+hEq5zkc5znkI//OExHEnc55wANvEvUVUqpEK2IU6EVBqCFY6ylQ5xkKFUAK6IgAMrEcklghdn4KMXH/5mcDjvEW8PsrohLD1Vvo2g8tpg6EBm2QJyLolMumZ6kopRLKSELkKyQj8uK2qUFZObIACEDIX1RRSaNGF5zEYAzRAehf9QhV7e/z97D793w/vf////76qslydv+7a+p0/neqdDT7tca9UIk5J0UTVjnUWG5GIrlF1UtB6qLFQ6MiLOaUHI4gUOCrC4oPV//OExIYmlBqIAMpK3YgmMM1tyj2MzGSxpinOzCaDyK2qqqSjJRJ6CzdgbBOuSZSYxgYekHJVtBULCpiP0fTHoxE/R8qNW4KThwVahcNsUbkcprRi7BCybl3AqAtC9oRMiSYE0ZEGbjiOYNQfh2lzT7xXvGvdav7ySxIu9Ya7xogEAYED62bX6f/////uiuqL/+/QhBM4pd5lbrTN5SqXV1LUhLTmGDlCxJyoPhMSI1IIOQKJ3/xc1ZiGwoFBoa8g//OExJ4lazaQANPKvFA86AaTVDgo4yZHgd2CoGZYqOYYM95yCZFhk2f6F5Obhj+vh91kMX1K1X4syC45Y3JJO1NMDv0rKYReZExDrAVhKTNvMaV+MMYxzsfv4zNv6svyCIEQwHMQPj4xr0f/////1S5ambv/zXExQpRI4up1//tqfO7IKIYQIyOZFYjnQxIHQVCYujjgOQ0iMBC4RaxFVlPXSPCqrSUcXGMFs7JEBglLpkAM3e4tFLFYns90oE8z//OExLsn62qUAN4KvPeF9YiQWTXW/RyxRugR12zxyjW1whIEsjGM+nsNQ3jyuGUVEyhwgKURaFz0TeiwyxAiXPLF3NGXJAGkBLCQ4fEiPCdjlov//////T//XR48cPHnMhzIjHK6nua6Mxp5o+Hy4cBIkBTAivHFFho8vtUwM3/7k3m6an+XKYLORvElioKMMkg4qTQEPjCIcMfDVVFDEwkH2t4yhvI4J6HJKSEIwcCtQmz1Zf1J6q365Th+k5E9//OExM4kkuacANPOuBwp1DTgFuZmJ8hy4UxvKOM3IYrl5TFNtRC5GmpjP2oVzFUrK9Uy1iFG16vVKDY8eB8SFQDhqOjVTSpe3/tMbXb/nsn///o9DnOOeabrOVR03NNIjUbDYeGxxg8SVUHi9CWbfOdJpsdZ34NA0ePflQCCoNDn2qPB2krDAQYIBidhaxABzBoPNPM4MPwsGTA56MjhtLBpRgsBMpedvnMuugog+8kAL3OciDM5dJH7nFMViRGZ//OExO4so1KAAOPOvGNUNLDMqmZ94X6gOAYVHoadV7nSZvCnizcCfcZy3laa5bSoacqHaevJ5ypnZzz/WXPqKuUERWFCw0ND82P/jmKppumaf4iJWifHqWMHlD10/////jiR89bJPesVVy/CfVRbU0GRIvnEDqFBRD5dKhjeS6ZO6lC9WM3VHQGU0AAtnCimhCDmAgeGPaiGx6YmM4FgISzHM+jLoRB4IV5jQ2pNBwAhAAGBwBISFAwgDGJgoERV//OExO4tC3ZwAOYQvQAHQHs1BwSEhhThrMceG10KUNyZi1h2Y+rdDrruZDTi0ykkhHXQ9hpa0Eq9sRSJSKHM5DOs8WkvFlAcC3JYdQ1IeBpu3JJygqS6in6eUY77jL47lLYGl9okuoquo4/haiLf/ih1KWKJcGau0/Vcb8VabpSlniih2do8INpHJGxI+K6YFCzc1AhhoSiwAQUPIDycXQ/paKngZPSf7Ws/WiT9Rd1CotofXAomQZBkpuQqgKZI//OExOw6C/ZoAO5Q3EGGaY8a7LKxjA4SMNlQ3KeSY4jwdAolMnDIHBhEIwWDC2KUcNqrmRhbQKmL3pgLGZdDrvOBQQzAFqNW56OXorErknp6S5OyyNRyX5uVKKSUUu7Fzty/hYxpJVhKphrUsxl8torNTDCAfDlREJHA0CAVOFxcVveP6/4n///+a/leVX+Ze+54+/VpZhtxH6c8GepE93kwcOZKm7m6QUoPqIcRpJDBBiv9DX4rypkApO2LYqq5//OExLYtExp8AOYQvB9wBGFTppiMBgVKgsmZMJhnIBVmkiMFGEgS0OOKBGCwkDzvvDij6CkAyKAmJwJOVonGLFaJSuKcpo73KmjV2crWpTI56NT8s/OrSZ5azwz7VuVKnb0/IZbrHHuNSsIs4dEw+Cho8WAJbm/ypfWVP//mcqWM7W15iyoOFkcpDkQYqVOUzuQeqqRSnNkrZTlGGCrhrGW+n689+KTNqRV9BCGzrzxDE+7lgwCuDfwaZLE0OxhM//OExLQm6x6AAOYKvDSzrl1drxMmzzIAJxGAQMbR+Wt1dYvrFN67E9b3KYcx1lHcObpZRh9yzl/1suc/7XPuR2/+6t7Pv1bf1qXm91ZqVz9WXdw3j+/+fpVv//1ZygxKXR/b/sUqI2ZEFHAQh0cROcI7OxkZCu5Ic6GiQEEchC2bX313VXJKRm/+VksMgkpdpXRWOIQWYjH5yO3EgsMLAQwoIjBxcNtDMIA7zuw8Mup5tmYYMBsPdXCYnY9FxKUe//OExMsm8+p8AOaE3KnTJxl5xiZQ18N2raU0wxa3jZ175e3+KxfLK9rBQ4uqtrA0rrZ3LnXGB4xBUJIRHDiEx29b3TqPGUTu+n/v017t1ft29v57TjTDnYdKO7GMPsQPQ05TlWqHjY8pKDZzLLn2Vk544prML/W4y9fXNgCBzIwMMeiI2dazizFNACAwoMDC44M5qwLGAzSQjB4EMFgoHApezKlBnmaU4zWnWmZ2s3JYxEBGBKGoByCa07BUOonW//OExOIne358AOPOvUkdI7TVrjY2Xa1sS51o1cORPOciW5JJpq86oeuTUmtSNjY8kbSdabGyTock7ltQ50mtfuc73Nqv9rXbac7iP9ra5c5zvc50//tbfw73fy3mnW5I2edlJS/8UGSu+FkFRQVC4bvwrgUFHaCvx//3MxZH8zFGlzLpEMMzooAw1BUjHNOzMPwcAw4wADChIGCBQjClD6ME0DoZAoMC8BIZATd8hAAYG7Kz2mqYEQn7SzYyxJ/W//OExPcseuZcAVxYAUiJqyhoq1VrRNy4HYqHEcZtojG4AX0nq2JKVaEGwy1qq19jMB29s2izexiRK+k8RZXFHMZJHHticWdyyz6kpX0Z/B19usggMvg1OLslftJNNl1Kj2YROER+YcKNQRIZbLp6DOwO4Lvw+6k07kqdShppdGYOq08qryt64fg6/Fo7FJfK8Ja+sLqWKsYtP9XxpquDsxv4Fj0airxTNzWeViayzwpLcuksmpZZRX95du1qlPKp//OExPhSbDoMAZ7AAAU7V7U+9MIknZc6juU1uQN9LIawltWkp5FjKe50mMrp5DumtVbM/D9PJ5XS085DU1fszONWrbqbq555U0PW5iCKKHInE5PSy6A4xKrFBYnL8HqOugXYX0D3MFkzT1PgbSuVdyjkTe2YtFwVF0uRKab1FIdE15Swsj89X8ZSF3noz741oZzLyuFkUh4s6dZ73ip9VqJSMZyxzEi0gQyaMzg/2hEHaPRpml5LaCAMwW6LCcDw//OExGE/vDqAAZh4AC3mKhlOz3uyU0yJRFFsi1Xdj1esJ8sSYO4WGGXJd0pe+9Zj/O7vIbCn3Jv6GN61AXGSwOSSZ6TxYLg9zfd9/DzVKx6fxKOMilsqH0a7EYbMnkaxqmFZzTy+ebMmD9P5LopDnJJ5hUj5vq8e+6R8apE1TXia6sTDLCcLtivSEFORY8YnDWsqtKSt6cVLMoZlLPIsq9PaW2XeLR2xZ071UdQpmCwknFgxnQmX0MLEjMgQwwMT//OExBUsM1aEAdtYAB3FEQkLDkPVn4S8a1H3oTkdm/SszjQeiEGwBwOCeAOCOQR0EsllZKYHwlS9hRsjShA4c1SeO8PZKPgRkGqgaRFwzniDiZrRxsLKt6n+OWu/azcbNa5znfMfLWtqb6bVfHnYZ83+/l0fcbGfMQu58nWrLuVacg2Nj2i06503LnXTWtmvmLdEMP3uWo6PGho7LFniXp1B19dKnAYuQYNlLCBgmgJ+I+qkMMm84S8AMMQ4IAES//OExBctTDKIAOYK3ZksEpQy1h4BAqXMqlAoAIPrPuu9SNmIK2MhbWcdAmCAlQSlojCq9wIDd6Ow/blEaxp49KZmJy+ms2HYf2u779v5MNvC5yX15XaxzuWLd3OpN5SyBH3rv3RyjKcyxt529ctRv////92GDTB8UI46R2RNUZJZSB4ICocMrGQQYWD0GCZCM8is+n+up7OriEPoKV4mYlFt/9du3+v/51HyKpTUfUxNfAUi+SuwZgmOD5ccEBho//OExBQrO3KQANvOvEFiwNSwQnBA20QZ6NbDsExQ1tNNnibTB+oSxnWcMI8i3DtDlcAYZhSlgY2VoUDDl/O5QYqGKdxSafKwbpRpdKNjBDxGg7mpSHW0I5TSArLDIPgEDpMRhIEQgPuf//zG///qcULDYpOVKTEtV8xlZ0PIjysz1KnoVLMpzf3z9GRRwwwq5pcip0ippVx9isqwi8nly+L2fkomLccyAAbiqoKuQYFm1dEwtPcGOghsxaxR2c5e//OExBonk3KUANPKvIdG0tq2aOy1zt6y4g33qKrXGKzDCWjLLCo3KDFeXi7lvBZc0hO9QojfEjNs+a13uv+vnlKsznVjnRnKj/yfOdFzne5Cavo3OpCUcqsrVRDzrJOVymZRNRdxjO7uzqzOYUso/VzoiuSLGKjCpzxFyiIeHEDSDRaIJJKE8PioGCehhf+SYlWSoEcAXhzhZxCsQwNWjInHVey2QoWSjNpN5sQEgiDSsrnu3p53s6t66p3SjTM6//OExC4uPDqkAIlY3J5zUvNNmfpX9bpFMbsL7GsOsYeRSwJCHZfap2rOzMD8cBMO0I4J7SxxtM6splL/FyskcQAOFNMYFVBJCkVjudqkoNz4kbdfAeoJ6I4lmYgKFlEpnY7TFutDsSzM/jMLd5xhgeHkGHh+sRLxLJ93GVd44t9vjN/l783XrKt/C+3eW7df63pLed9/p0aFlC/f/+v//1NB7/9SMH/n/KZClQy9NJzLUt3Vmbzfa5XLv6zzzr/X//OExCglHAqwABBY3SlG21Ayg1gHq1YTuxSaYukc2CasaqOVKFEYqVZ8TTF0wDoq+Op20Yk5eYpiZeMsLSaldfGlDN7Ptc0yeROHKI4V8rUPB6dlosMrTU/MDuzVkKkKRUv5yGV0XUe7tc6285auWnKSuv8TANkreNWIhMX//+n//Uql6ft/Xp/20sl3RmmjWvNJ/9+e2u43OWpbI6sNqa4uXmJYgu6OtiqpPlBW4jFQxLJL6vGaxxe7M0LC1QV2//OExEYm3AasAAiY3VQXiCciesMzkHiz9iaUysVz1SyoXElsrl8/EYvH5N5pfR4qvo8aXFwhuD8+nUls3KZXM6RL9fdVpF9L39ecpTHn3TqnuNNS/ZH9mv+O1Z/GrJy5LnOKsgNzNsudG/t7//qVhQv//vcpiN//61nTOdbZvzMzM73U5iuzn0veK1JlSjdd5ba/PewdawqYcbKJ7R91xxnHu7Fzy7oITzykbkk5CEd4RyJJTWjEET01L16RiLDj//OExF0km/qsABCY3bmPO2quvlmeiZo2e0OT5pWuL2pl0DPNunMbnIZ8zbPesvau4ztXKbtHoLs7jNeXDaepjirE1cmxmF51eVhCgggjyr4M5ww9BKKLdqvv8OaPliEN49/e3275iKAdFbITpbe/T+0GQIlEzGzv2f7/27a1NveztOXn///zy64c5znTdOl1NNVGtzzro8rcxtesudRvltJHtFtfLbpqR5I2mUik+sSiBByUj60qHay4Nj01xuc///OExH0n06qcAMGW3L5zrF7vP9aZJa1Frd0rONa0ua6qLRAgFAIdCh8GgVodtZoVmloikMJFMqITQDQlzQYiNkmSKRmJhMy9LUqaPIU+XlmDKt6251y4bw51lj6lgbTCJY0LAoYSClq3sWmx91woYbWg2R6XeVTqrUB1Hu634+vS+AUhXAxQzB4szW/////+uWp93ys96G9m/6PQ5ygkYO6FMpioAGFADjAzRRYsqghSrnRWkUwQJCe1C93/+tXC//OExJAjk2aYANPEvE4ihjYZQU2bcMytkFHgCktqGEygLNN5Itw/vR1zMa9GYFbvD2bL7d1bqG95fC/DICAkCTpGjiXSZZYL6za3WZor54rzpMI9XB47xeJvON2rqtrCokJC4qcSCIdBxUTRWZP/////r9St372T5d9WmWUriI8pw4cYYgkUaOUSPRTOHqikam1HZXYRYweeaYd39xlc6m6q1V6Fd1UxkILArTAQOmrJ6Akmq0xiEWCrcMjAMuK1//OExLQmI16UANPKvIgaXQa07cfYlEyqeSXWJzHK9LnKrdaK8bLKJ6DYo7SGSG1pnrJcoKkViQWpZTZ7kNyST1JBkHT2c5lrPm8f5z+5dyRDrmmwWnrKnkTz7U+3//9Pc01raZv1+bHjn6aoceo8clRFIzlmqyTUNvHRqw6rmjt4NFnh0qdvLQ6JQmdBnrPSqt9aRtHQ6MapqM1RAVnMZYKMmQKEIfioWJ0iIRgECsUYu4EAKGxJW+66YylBqmUF//OExM4oKyZ4AOYOvH+mbd3DHdJEZTLKblPLaKnnbE9N5v7Syqhtw1flEffmUROzKJFLs4zLbeHMq3Pq97+eX7Z6LkmocKhmN9tqd7P6f7cWVa0b//zO7f1TelUc1Ls29ZQrsFIgYgegdnIh2I7EQimECN31WdKqiYsAp4iyBlICJl6gJzw/pj4EJjEOZh8GpiqAhhYFpgQEAiBlwErTAEEBYDgaByBgEaWMGNEOyhFqvTz1PIoAjldstpqLX4Al//OExOAl43ZkAO4EvNSVJfQSe3Wt1YtAMutKrrSUefF3Y5K6KW2K8Mzsqzyoa1NNTsa3U5zWWU0BmL86hmo59KnGtul0kC+/9ou+ZrVr4zf4a9NXotGXdFt35///89ObOf5/+2bM5++NU0/+bLt72qmCT82LCUm3TgoKmO+MSJJaCg0Oyq0tGse5uaH1MGi4xs6TBLfNMnE0IJSc/GKBuY2DIEDJQH2SLDIZPe4D3NMBIIQNcJdZeFQVxb1NdbmZ//OExPsx23ZIAO4MvOtpPR6TJbCdLLErlVOwsump7RifQ06SETEbp3hyq2JB1veKWr95zTW9a+M/5zv+2Pj+uMXr93/zJvMGkZgx7zrY9ZIiLij1ocJUodc9LRRSLtgGOvOkWgEJJreRERIVLBdrpdYx7n3OgV1bHnyFVNAxwHk0xTUwIT4yHUIwFRoyVlQiUIMDsyTAMmAA0QEYx6Gx+JU6MTMWAGMLwjd+rK1ITMcEM8W1g4Zet4fP4dhwyiIm//OExOYoubI8AVx4AEhlx5Z2Jz+GeO5e48kkKSRjhBlIRwDAXC5Z169e07Fm7UvYlCBpxjARpRKqACIb1ax1U/PO3R3K3gonC55nJctWMHDNc5vK/K61z+2uYc78vZwpozZdmLcWLIAErqWnmcdS+xds2qTsavanc7cgyciSxuSoDETw5oWnLgGjFqfSPNsKTVaFXnMMJ+rQ1Jzkbt2tZ5XqCNw3nt95+gdS3Tv3E6mMrpHfUTMmXRKEQoWAmNEg//OExPZRhDo0AZ3QAECmTGsOM2BTKW6EAIdr4Z2v7Uw3YvWOWd/hr+fu1frYaxxlvd2r1n8Ocx73fWDiQBkaP5mS4GNojrCKUhgOdZ8CggsHS3CAaiqo1BFHl+MTiqeRe5ZhoDHIo3OdkEbYawx9Kz7z8jhmDNePRpVlJ40Dcaeem6V3B9nioaIlVY1vXkj5PMGN9WmWzxczmaN8F/PBYYokpOo2Ij3ENQKTdGB0rzpxqA8UZ7S6vD3uL8x4kS0v//OExGM79CKIAZl4AYs64T8kD7gvcSxocdXsHUqegqs6ItRhssRlZz9UCNN5ha2t4qWxmZ0KSEbsMHdPDxAVZyqsvHgPqQ9Nb5tRSSISTQDRzIb8jKrVhWrmFuM+Tx3C1TvJNSwI2NxZZ2DKqVjO/j6hRLZth5r3nQyC51fvomtqu7grm2SNezfXW3sa9WF66tiDSNCxM9c8JiqAPUCWo2w9AQ6DDgNJAMLQ+FxeMw+gndbKYivKrzy3GVS3HVnt//OExCYwU3KEAdt4ALG1LbOYVu32yu41W+LZub2ZHB/jyPEvYsDc5oZGUg/Gc0xxqwt4CWSIvos6FJ47EazSNsa7fFbDsYWJOGJLE3uPfG94///z//8f2zr2/hZxG+tb3jeYudRrXo4+2tZ3bf+/r//WcwM1f78f3vqm943em971t/TbPm9N51bOs2tbMeJqHiLiHGzLv5jbpNUoHWJXLZBpVIDELXpj6mZQGOrBwYeyMGhR7IS87LBkErt2Tgo9//OExBcsS0aIAN4WvMux3H+V6ed5qW4U9T6lLqku2dWLVSrlnTy2kqv9PO3Kku0z0MA5KiDD2Sx1+mYwS9DsT7rsFaWv9XrHpU0qzDcxIp6Uw9GioiqsH8mj6Jx9JxkfPIrun//////////vrmKdDHspvfx/cw3jm7lzZX6thzTvs5nK16aotqVShy9a5Jap9AlvVPtTRPAcGzQ80AlMYUR9ylsdfRTVjyCQwycOLKjAQsxxONrPEE4hIAUQuQze//OExBgrQ1qAANsMvfQ5Bs7eunSXHXmTHmp67stW2BbE9bcXN1XayEwnjqZDiUnWj4yjdaZZKytIAMMj1M+ts1+Wqy7U6nZzZNBarfV/7uaz79yHbtNZdd82HZ/udi8amLIwSO1qyqdvv756fPRtPmybP9XPY1XajSJGnwlUJSxIlLHIigoswBJETMfWtF3ZN1HYuSLNbpsM83oKz4ol///8EAUZupHJvgkiHAQ5wX2FyAeKjGQBnRgoQhFQt2dZ//OExB4nM75MAVtAAOGQQ9NT0pmp7Cm/4Oi/u5+IKkYLSpQhgtEIfVhyWg8VgWFg6D6DsWtfVvmGv5+Gmm1X6lWlYc3WJaHrq1i+PJQWuGeja1GC0NbSUPbik2H2zKjV0tRxH2ta1r33HzHyOKri5WMquLn2muaVe25hm9mXtan/WpNBUq0k+Exp36lp40VJ0vYmimst/kDyBXkk5+UOU7Y//IoKpI0Yf/7p/iA+TrlL/v+WzY4s8WeZQqb/0/Z4//OExDQylDqAAZh4AGr2OPRldH84r4Zf///Z399Y08hMF4u4P////+vE/1/5fWJN/Bbf/////veo9L1gVZXOePasjAnR4HmaDsy1pe3/fx8a3T/Hp8s67coByG4eCqpNb1s9PB0Ro3jwLUTgbRmGUZL5/VVlz+v//////9///yMkND3Pt89YmqQ7vKQ53kS5bjcXM8KAtnwmtOLJevbZW+srHlUpB0AIPIE5JKCAPmzJi3VDaRZX//H//8//92zW//OExBwm1CKcActAAFr63HcL0PBqeKuMEcZN99f3KLB7wJyCynmFmFiFj6T+YHrBIeGINOEAVg1qYVCQOxEDkPjhpBVmoxNUmzMmTBuSmNGCwspVqTILQag1NEUQA/BqCmDxViUmlQa9w23CyrwjW3VDl7mV0GjpcdcTdSi7TXXVrVWXxPHLc8cebeaVjL9CNUD7CTisZiFwsRVaZQo12bi/MbmORhbjjuSO42/s/uUyFfN1/3vel1hfAmjTBQZu//OExDMnGzaMANMMvI9x8y/Kx1aVzfriODYCw0KWj9fbb2oyadLYeRCCbt9zO2ececn95eZecNUcS+ev6rfVdruVPnfHfu2vnZ3zPjZ+8EJ7ycVc5Vemqc6prSq85Lv77bnMeaDgGPAMXeHxeHZZPBURHjuY82qq7wWSBpVmDIT6K1by3Jjs5kwhmjRWWt15NKWvua4JxhsQyWIwQo0r6FFYmxUPWdVyx0POwbitZTNPshIwD5GEbzKhrGm1hidn//OExEkmY0qUANPOvCIhjRbenmg9CmTjE2tu2KL30SScblRQN4CgkFQPxeaD5jjmr//+3//TU49N7//0VEOs5o4rO8xZir22q1HzfRFSyVKnBw8EDKJY86o46Q/+muOUDTA+EiZiVoY8T3IKpgRC7zXuQfQnA5K1eWBgikfZndxfC/bVZzajoSOozyzk+0IhhTCVy1D51VhgEuFK6Tys32bx6DIdjW2pWGQRes7T2RdolPk/3BHATIoHnPEaGD8Z//OExGIoIr6UANYQuAHyjAuggSLBkRym7ern///////+v/r0t1hlc+K746//aaZWXMOkZKss0eNKkzLv/jwsKB0EhKDbhZz39IxOmpp6TGpRLjFjHP1it1AwxmiM5ypZsgYMEG1JOeyp+aJZCvpWsaamm4yGkca5HqH7bTai+pFHEty+Kt4EIDlTrqyGGX+hUQi1uTu9G3il01BLXc6nKals5tFA80pyGe6oJI7iQiCmK3///r//2rVRUhL5jIqu//OExHQlEpaUANYKuNlrdEKLlUeUHwmSBZ7P/uUVMvvnFGHJULJU0HBQ6GhyKoCXOcFAmnDo6fGZnRWMmGD4YSmABpigePCIBBi3zzqAvbBSE6YpXq8QpClLPKhrja7injqO4nRlgqRNRbTUMpTPH0ZOqF4h0cvqqbScqlJE6RzCy3exbd0fqJYxnK6lbQMZtWpo/0+pdv/+Y4VyhWMY5alQzyt+qU6AQp0AkeUMKDOAf8DJCRap4aPCYSlnjYlC//OExJInks54ANvEuE+CsfySh8NA09SiRKowwITYagMZ9w5I0TDgKOctYykBjAgfMtBABCUQAYLgMICK+l3pWKmGRVrLirUK73TE9ixIOqMq8oY4jo1ULByqhOuEj/Xe6oxZbVDBAFEUebA0asU60cWx41Ila0aES4qfGWPipbjeIufj2/idOedvr4ZsakS1iwNIJHizA0RDpwJNw7GOGegranEopZmBEGukkpjAKdy3WAuFagUCAgXNduRPpM+Q//OExKYmkiI0AOPQmM2xRMcDRIGS2bZnThQM7U9Lpm5nzPeu7z4NMLNlL7FwVg3AXPBxDnuz4hxc96JFxcRw7POi4+8+dO+ooyLi/n+Z/iL64QhE7i+KiES77iz+ZmJd303hJ+2SXiNJekt3ZKr0p/j367/e9P+Hv933rSbd3ekTl7975ioRJfIMV2AET3y+y/kDq/DKHboLnlpSRsUGAQIWeafDbWhpM5OgoBWliukzwQMZJTB30ihdYEgwcbEJ//OExL4lY5o0AVtAARAicxCBda53XQDqaJrhRIhQBSYcdDnhkFhd9WNAGut1zIBzTjEq1qMKQLOktLImCJhgGilcXcuN25tWdG4WDroe9u6gSIr/Ok3vM88MOZtzm8p7GX0bLn0g+/DMba3n/5/Yw5uIYSu7G43HIzSyPB5YHn7zcpa/v8zz/Wuf//Irk5rDGvvPe/iE7S3o/F4nCtUVJ3/3n/5/zDkr7Yp8+9wztX4BYO+8exg5h11rlm7TR6Wu//OExNtJ1DpkAZnQAAMGcNeF553ca6yBgLgrQ7zmGevt188bHPz/v/z8JRFaaclFJcq1pZDFmWwmpR1rF2imOr/TjafD83jDbZGWOswdkLyT0Kp5Temb+MsqpFtFoBGCWbMNc301TDgpyIGICNBmowCmF5JqM9ZfTvU2l7DUhhmPmI9BLDyRw3GHF8ZIWgJoJ4FUCSDEHAOw6WFZsMIPBygPAfSXOFwk3JQ8x9a6a1LWtrrpO6O6dbKNTA+iy/7V//OExGYn01aMAdloADtRqdkknSW2rr/7XWkyq771+tXvTQWkgxkxOP1O2jQSdFHZFFT260Ua2pOcc2MTV7IHBWRkSvt88qqwKgBhE0Z+GDoIa4aAZGBgcaACrCGPkporcZOZmGu4+dGPEBnRAoYIQonMpLnrwLxgpa7C6aFiwxdxfqOgWFLQQAGMR2bACXiJSWwgGhgqpDa525tdXOy9hq61fLpUAQVaHUXLDcdazNzskqRmUEYaNoT2TcDdBmel//OExHkrCsaEAN4QuAuPo+BgpXFv/////v///88cI6V26XFXHX0+rd1xdfSitNKwpVpA2AqCaX//oGAqELP0zdWmcUMhmgkBYY2BzQXGkRIgAjxTUwNNBIIl6aNaGnhBbI7hELR01cS+CLB9QSbKE3w5p3QAJMkoolEgFNSQ3WjTAQYxf9XWDDIPjzwzD9NBfZc71IrMTTFYYmq/kfxnpDVlluhvkAhwmUeLoMK48gihRRRE1iQw415P/9bsZFZf//OExH8ocj6IAN5KuG1RWnRBcVEisJobijBd5kY2db767v/9YsbHMf536F9SHi5p3KDdC4yIFQdWdoUJsdWCFjLICKCvgCKDQCyyBlKQekMaJKvmNbuiFLNlZwhLqGAyRQo42LIgGziCdrq9n5cvFu7vRd532fCne2HXihqHmmxJubTV0qif6DY/IIRSyjKXDKM5UYxHYqKFcMdQrmADAQhUu3/9c0lioR+a93UeAHlhHrTsq/1///uYyNY1n/xR//OExJAk6j6MANYEuFcxKUqUv8Lj3PMO4SKCwoIJF5wE1VhMSBQxHlQQRMNONsxNQOPNYFPGQoZKDsoBgUWz5B5EocJQacY1ihIojFFBQwlvEynzgZzr0GfSXo9S00LuO9g2SxKVeyhS2AYFi03bznvmjEHuKkUrsRWZGMe5RguFqVGb//tWuYyI5kUccqjTEIhiMriajUvsuu+Urb//0uKTKakXN6/4qbLLAYsYjxYGhUhAYUYzQjJRUdElYhNM//OExK8nQj6IANZKuAQ4wAoPQNIMRLRMHA4uaAEBr3izpQrQw9JVX6GKODSiqULiCHJiKBQczp7/mJuCZiJXLlW1TVaWmrU2NE40nmIerzdnXbNl3RCG+huZ2gxKpb///1f1Z0lIg7PKo3DKvZromW7EnIHMIQfqv//nIZQPJlHK1hYIn4qLCETCZCY+REiwRIgostWmYCRlUdzHnE0kDXJQAOYjglUTD1uAEUZEEy5bJ5Hy9LipTkVx/jhYiCsp//OExMUmWpKIANYEuDIlxViYohROCHI5xgye+Lf51bfg1+JavYupKOWvrHx7f6+/nX+m/9//+n/IRhxRMXAcPgQpzgGLrOJi6KH3nuzGGFHIiiTvXMc5zndXkiAcbOcn3nIQggGAQeeALwuF/fGJLCUBBVN+kWIrfoW6h0B7UnXNTsd94XUlru9rfazw3W3VwUQGdgQEy9QE1hF570+Fnf0yuSvmhPTJ58y/L/cm4RxvP+N/d76/9tbzvf3/vL/N//OExN4l4yqIANPKvPc8Cis8WRWKSdWpxfQ9C2pgWa3hzqxwP861e9SDJpzbIFILxdIenyXotD1e5OOYL9cH4qDkRY3B4H29JWZxiYmU6HzsbVKfisMjnOr3OtnTY0OD5KO2hucLv4sCWGxqPWJatjJT6xW7zNMVve96Z+77s8NT3iaAHfoxBxGg8iRKRsapGLv2S3rYjUXtOpqGCpZv1fUyn39MWgxkEgFIB80zJ+d7Pp+a5TfluZ619UPLrtnc//OExPkvw+6MAMDe3StbSXKZ4VA1JI8Dk+RxmgoipAijKKvSovKpe+IvOLF5WL6sqko0BmoCGNklD62IwQJygrQx7J6kzMhyIcTGrWCMlfDhOJhFpdg5frCdLzswtYpmTJG0/9ePkSDjp+61VWtdh+9r7eq+BiJxZWXbQ65RHhYbxWQWPiE8jbXbggrJ+4V/llRley+dHOocOhXVkZGtb/cr96f9LIxT2IbmbbezJnJn52Lsno5gn7LLNPOH6i0K//OExO0rpAqUAGhY3aomPF0Ai2kRR8E4rmHo5ofNPPqUkdjn2FMJOqnEorRByHoklojIBRJrrpMJI8CQIygkGaGciUsvATT+Kh9BATSTzy189gKR6hHy7FawhrHU7tkK50WiGciMOAlslbyw8kWHtcujWRHkK5lIgH9U2zFatJ9u75OapEXzfJKiYHDmE9FYRQBS5Kdbyj7zYP5MPxMQRFaQOHDskeyjz5F1HlB6C+TZKHVy0V1bxWN5cuRDNG9T//OExPEtRBqUAEiY3f9v6depmuMOge0N8/rP6l/ca/602f42k8hVJYar2rtSfIiEoBoVACe4iFUYELtWlle4xQwRNWsmKWSJ7KoVJkU4qilnJVsaRSknkYET4+6a+/tHSVDXlt/ytnb8pXkpKilQmtmiIiQwWlKSuEUGpqsyezGK7xsbqnoC5ecCEDgWcEbMyAg+xESIygKJB0mGElTMg5VJYs2JA7rrDtZZOQgWwhyTcj/FiiKxgE9qTMwx4DXr//OExO8s2/KIAMoS3SvjhY3Lq2G+rCjsdvu8D5hIlmza619QHu9yQdYzje8U3ul4Vt4/zjf////0eVUUVExJyihSMOoIlQ6CKCY4cqv/pJv////tShRIpFExiCKBAWGzlcTcw8OnG3q5zuzXRXdSIrmHi7GERUeKiAmLHILkSKB85ihSeIlugEMVDxnmLSCiO1sBKYymI00VLhj0hFJ4pbl6oHTDhSNBVLxBxyLCKUhM1o2IZ+whByFEsJ6fBNF5//OExO4sdBp4ANvK3UDUaEaC9ReWdyhwnBWtyUYG5XNUdu3e3rm1b31SW9PSk3zfGNf//////9b1R35DGmsl1ViqylFWR0KiXlOc60rS53/9NGkvWgoUUO8giowxjBMcHCCaoKqhRUoxx4mVkPILHQ5Ys+YqD8PGsKkMLAMDUMJB40WGk3+ECWcwJCg0aSMCMHQRMiQeaQnmykAAJclXaCq3GhrtBoEfh6jZIgjEyFVJ9GWsQrr9Ym+S5CqV6Wxz//OExO8tBCp4ANPK3SnI6S9X/jr1PFT0N2QP9M0kzyHaeQO5Luu7UgOah6nqWJqjx72z9ekxxtGFjHGSnGKhev//pK0qDy5vbymlHIczuahXdYohUFktSJElRr2WylIcjqj2N1arsyFVmUqGGB44AkFhc4cQYc5NnWJBoKAUnN4ShoOg1SpDqCOJl2T7EMKFAoNhYPTXc1+l3KXRZT6m5c9CYwdkoMIADgzgfxBRugFymUQ7hdRvkhY35LToB/m4//OExO4tu5J0AN4KvNIuJYnReAjws6qZ3yRMlEK5TuMR2qz9XC5jq1CHzKh8I2ooLmDyxJYfjmsXUdCjYPURN+IhZ/i///n5bVKWrjVuv7675qBYWlDrprNaeW/7r5r5WDta9pWGGWGmfIh0lWCIiB0yCr8s/cHQ65Add08YTK0KBAaZSBnVCpkpFTGFgSoUtVOVVHZbR/y9phgibCslLOoJk0S5IsFRImFGE7UlC6pFV3xkMbj74JFNCCpEmgCC//OExOoqmtpoANvQuBqSrpdVuLBYBZLDT9w6+0klVadiL2EoEjcRUwAwgC8Bo+4+8pbBsPRusbBqdNxMpnozFFLK1nu+b9MzWZyZnZ3t7abFUfBQG2CJ4udcAnhIJZ6oDElJCYBZKA0eg09KOJXRA08VFkkjwiWUZU+KV+tck7rqMI9PRtOMNEZ0yUE2hE0AEvooMLGX1EgyAFIVqzP10Fwr7OVoKbF1lJN+u16GWs8BIl/11VVAWc5vFCy1K/GX//OExPIskdpMAN4YmGUDfqDHGt08tZTB01Ugp+61bOM0sM1LE25OFaPuTFZTqal36wluFZAQsBcgQWtr+iUwSrqQoVibDFVjHgCraN0IUylCvUN16FetTYwuTVacjlmqHc6l8HvKWWVIqcM0zjZAjmXCvDSbGXvvFjLWWb0MyUtm5K22c6X5NRKk3njlSCEzSlFsVrJOGiNLV3NHfyT0dl3Hxyf2Wv7IhMkpKarYjdYQCUrXvuxGTyJY3E1WsulY//OExPIuey4sANYGvcg1ORCNkpzF32vjz0se1dzep9GnsysD1Nmz2bWk65e8PLIBWTCwqWitQJeZRapoldpKNavR3rKqm3zO+q1u/01ityisxso64l2mry/rZ5uvJHLb1/cqefRHMzNfZltaNRmVZmv9ShZ1TsmweRBSrBeNbwsXGY98VTeQOtgwRkk3Mi0xFms2tv7OxKPwQ4a0FqwpcsMAVIq1GfGV0jywSn1DZXWwnWrlp82yiz3vXNN81ZKe//OExOsr47oYAMsM3V13tJoIabAvlqD75G7/WuxRrXYHoMhi+K7vqbIkbgBP571VzRtJUuq0vAnFGhNSj4anh8c02k4qfy2WuLznUzqOl77OolU13adZtyc0rXrvLtuu5b421Z22znE4/manHj4zs3WyStmWx6p6qlzVUygswPYSfxUfYQTRT8zv86u7lTCkvVYZ3FuOjZWhKTh2MVh4wZVXHJ2nR4Ph3qhUVTtL5mlSUafevTHTlMYE7Y+SIR68//OExO4sFAIIAMsM3XLxTgWt33qtQNswakiYNEOOs/a7NWRPqbVQWbcu6KZRhlG9M9kivd8UNo2VSiCr7NBFOm8SXzGXKiI2BRWZFkn+O+/zJ2n5llFlVhbmJa/CGnO6j0bbl8DRA4dECr62xSdye5OoqWo0yy0DzxOmkkjUcTX4c2zaRl4Y5SNw1QqURTZI8pZ5Jze5wvE6Zl9AnXktCkZKmLKGBSlbbRFcaQqdyjRvU0UUSUmkb6Q4zBQ8gJoR//OExPAulDH0ANMM3Vztx+ECaMYoqmpIxMnaiS0yYlf+gCDmwsx5KrHQvMzouiyz9iJ3nxLMSV4uyZfEYwS8t8TjP9XhV3hlXjpy77qGfd/qF3ll+cPjIbJ3l78P2Wl7g2qfMPw3upGXeU4PrYyy2yKR8+o/uYiN87rK5rmAaidhu9nf3Wp7n5U2FSd3QZ93NU+DKkSNQV0aWRI2SwkiTUQ01A+nKRhZVtEZkKkZJBJRFAPmxQVm1qgqJZJW+1zq//OExOgpnC34AKJM3RJTbB7E2lA822Qk7liiJAeHJBxXoEpMylYYTRGgSek9f2U7yWZAR0pKvUn5kMDJPOI2c8ubRVTjSzscyEcPu7SvKkDARL2o/3C4LTcghBz0RNk1zL+8g5y7qTJyo16xMcmkjbPJxizd7csdC383ba7JqnaaSyUG1SljrOz+rm8OY2rV6H8cMKnK02yXU20kK6yqFsHiBAmcSVVfp8bBeAWuQqJldNqmTCNA2wugOuW1EsVQ//OExPQuDDn0ANJM3CNAjpA5D5TXks3CLuQQ4WbIlkwbBNwgmjwMSiRrB3c/FrhXM0n2pyBq7SzSMfFQ4cuY0+rOQZDllM8KSc9GCxz6fft6icPGsQ+SUzJMyBtU5z3Ybb7El9TckHnYiiCo2jmwKuFw2djf76TXGUkQQdJ9TTVAy7cRJ2FNj/fs3JnC5V1TUmpmj7auzBIox0SZ0hCltuQ6G0aE6p3tu1TwiYJ7aC5ITEBtzPmSLsiG72BhzU0S//OExO4sdAn0ANJM3c3cEWnCEaFRKodYFKDUKNG3SI5JI+TzpQKLBPPJIrIdaLpmliSobWxUpEcaMnNhbXVJc8q9c5Jl5JcQkx5doMFNHdZUgE0qKukr6zrqvdHWfryffvF16d2TQl2Qdq6vcliJPMdigsmb2g99lpaEbfymarzBj9i2VSu1S093lfl2V4X61uxEZbvfafVdsSlTKZtJIieyiURk7jqRMNCmCNqfg0ks2iQm2yJMPtoTExbZiA8p//OExO8s1DH0ANJM3SSEkg0gJHokY/FRSBDGlEBIuowydRu8LRiFFQWSKGe0pCCXFLMAFkzz9wsCto1eO7H9WlbYCMfqIy6cpcZrHY53Ot7uS93Ejzy1SkS/70xsf2TRyKrF2fHQ1Grxka/fNnUoFpmbK5QJLOIYlr9FIFQYjvYvtTILNGvzWYxdB7BFFnUXTY1RsZy8XyGOdWdW8u5EPEMkSTx+DpxtMjy61Qmi0aUs1hG9kUKlNQztZeCNAmXI//OExO4t9B30ANJM3VQSGxSIGzcdiokTPlJbnS1S59iUyBmfSlNBljxMpPYPqEZfHOWaguy0I7ijjk46m/V3MJJ+oKNpNKKSYU6UpqG3prL7kq+abTgUmncmmE9v4gMynNhlpmE31dxaUdqjcWEFRi2sr7powxjcGEmF2F5P8EpI8zYTtmGty3KvGex/0pU9NSfzV7DdWtc5zeGVakpbd+7Y3YMwZZQqrpixdG4NOd/BbEdRUQtuMqNxI1MjDwkv//OExOkuZDn0AKJS3O04IJ6RaQEzc2f2IZNb4rqS2ZPYwZUBBOwEwdTCKR6uTCwPpkwk3lj0W6Mzhi3LVaOLFGmOkERR3BxdXqAJN4YOlEjw2RdngMvi/EUyE8AYerGYeC0Uir5ljs7tqw3I4UjYnDi31EkRG/MQQzcFW0ofXa1XPLkqdexKYw+1LWa9PztDjB0SvuTEZZfE0li8oYnlGf6cQt4b14qFOBq3aGNOK1WJ08IKHrzCbDOmMYVConUi//OExOInvCn8AMpG3S3Z8EZP5jXSiIEwH+aD5geu04pH6YfKRQolhVyoy0TI460JdEqBPrpMPtMg7PVirlzRMXLzst3JidNx0phKxSNojlCcSK3Dyo9w0laFp/EkWHZmexm1LoVFp4vq6ZI9HT3GmVv7OGGHpxY6eSMqVJqSaNmhVMC7CsS/HsKh4r5G3q1JdSyn1uB9uhPVrkx097SONT7KZTWYjMrvtWgE+PDxsreYRrT84SOpg/PpXVfdZvU5//OExPY9hDnkANvY3Ckx37muapvxwmqaN0WdTdbuFlOQmMrxouhFZiCE0jQihlls/0aGTQNYK8DzktibROY8DftGy0jODGfHopnGIlIXaO0mSTGhWIpm2jN3uQIJJMdpZiXKCkULXqSZZM+/nshdGb3e7x2BevHMYqNpGT2b4ul3vacrkHMmC8dEJzlYJijX9wUBvMftrbvebtWwipS91p/v5h3L1/D2abCBamhUvfvW8Gb9S3WSuC9j1RulpDXI//OExLMrTDH4ANJM3WKSphnPzFSUWeWLWu4YartZh45BRxkBDgtwCESrSMMPDIX6heIFhC2IiUapHcEkYQPKKw2JmsupSJ9ICmSJWycaw5YzsROHmSqos3WiosCHMoqTci8I2rQHd9iFhghCobsrSpENIu11adgaGOQC7AxK7BqQy0suM5C43DRQS7bgldEMHLk8JB7FJFNrkGkSNLQpM/YnJQqYSM+rWV2rta6/sZtVaWUv6/r+w7S5ZfKQagKg//OExLgmo+n8AMmG3dRUORZpFTaZvKD45pQOgbGxIqKioqbS1JtKqr8XOUcy1KxfHDN6jAbA2FRVeGaiREiRAKLV/MzPmZnmozOf1n9USqiUznqu1Z3nK2W85X9UcRIo4+ff/+/rtLU7Vra1ec7//+qqtlyMy853/qqolvaqqqJJUGioKnfiWoGgo9daTEFNRTMuMTAwqqqqqqqqqqqqqqqqqqqqqqqqqqqqqqqqqqqqqqqqqqqqqqqqqqqqqqqq//OExNAnK6noAMIM3KqqqqqqqqqqqqqqqqqqqqqqqqqqqqqqqqqqqqqqqqqqqqqqqqqqqqqqqqqqqqqqqqqqqqqqqqqqqqqqqqqqqqqqqqqqqqqqqqqqqqqqqqqqqqqqqqqqqqqqqqqqqqqqqqqqqqqqqqpMQU1FMy4xMDCqqqqqqqqqqqqqqqqqqqqqqqqqqqqqqqqqqqqqqqqqqqqqqqqqqqqqqqqqqqqqqqqqqqqqqqqqqqqqqqqqqqqqqqqq//OExEwAAANIAAAAAKqqqqqqqqqqqqqqqqqqqqqqqqqqqqqqqqqqqqqqqqqqqqqqqqqqqqqqqqqqqqqqqqqqqqqqqqqqqqqqqqqqqqqqqqqqqqqqqqqqqqqqqqqqqqqqqqqqqqqqqqqqqqqqqqqqqqqqqqqqqqqqqqqqqqqqqqqqqqqqqqqqqqqqqqqqqqqqqqqqqqqqqqqqqqqqqqqqqqqqqqqqqqqqqqqqqqqqqqqqqqqqqqqqqqqqqqqqqqqq\" type=\"audio/x-wav\" />\n",
              "                    Your browser does not support the audio element.\n",
              "                </audio>\n",
              "              "
            ]
          },
          "metadata": {},
          "execution_count": 5
        }
      ]
    },
    {
      "cell_type": "markdown",
      "source": [
        "# Módulo -  transformação de fala (linguagem natural humana) em texto (speech to text)"
      ],
      "metadata": {
        "id": "cYRIXS9Kx-1R"
      }
    },
    {
      "cell_type": "code",
      "source": [
        "# Instalar as bibliotecas necessárias\n",
        "!pip install SpeechRecognition\n",
        "!pip install pydub\n",
        "!pip install googletrans==4.0.0-rc1\n",
        "\n",
        "# Importar as bibliotecas necessárias\n",
        "import speech_recognition as sr\n",
        "from pydub import AudioSegment\n",
        "from googletrans import Translator, LANGUAGES\n",
        "\n",
        "# Definir o texto a ser convertido em áudio\n",
        "text_to_say = \"Ciao, benvenuto e sentiti a casa\"\n",
        "\n",
        "# Definir o idioma do texto (Italiano)\n",
        "language = \"it\"\n",
        "\n",
        "# Criar um objeto gTTS com o texto e idioma definidos\n",
        "# O parâmetro 'slow' é definido como False para uma velocidade normal\n",
        "from gtts import gTTS\n",
        "gtts = gTTS(text=text_to_say, lang=language, slow=False)\n",
        "\n",
        "# Salvar o áudio gerado em um arquivo MP3\n",
        "gtts.save(\"/content/gtts.mp3\")\n",
        "\n",
        "# Converter o arquivo MP3 para WAV\n",
        "sound = AudioSegment.from_mp3(\"/content/gtts.mp3\")\n",
        "sound.export(\"/content/gtts.wav\", format=\"wav\")\n",
        "\n",
        "# Carregar o arquivo de áudio WAV\n",
        "r = sr.Recognizer()\n",
        "with sr.AudioFile(\"/content/gtts.wav\") as source:\n",
        "    audio = r.record(source)\n",
        "\n",
        "# Transcrever o áudio para texto\n",
        "try:\n",
        "    text_transcrito = r.recognize_google(audio, language=\"it-IT\")\n",
        "    print(\"\\nTexto Transcrito:\")\n",
        "    print(\"--------------------\")\n",
        "    print(text_transcrito)\n",
        "    print()\n",
        "except sr.UnknownValueError:\n",
        "    print(\"Não foi possível transcrever o áudio\")\n",
        "\n",
        "# Traduzir o texto transcrito para o português\n",
        "tradutor = Translator()\n",
        "traducao = tradutor.translate(text_transcrito, dest=\"pt\")\n",
        "\n",
        "print(\"\\nTradução para o Português:\")\n",
        "print(\"-----------------------------\")\n",
        "print(traducao.text)\n",
        "print()"
      ],
      "metadata": {
        "colab": {
          "base_uri": "https://localhost:8080/"
        },
        "id": "zdrCI7d1xiH1",
        "outputId": "ba42ef0f-b061-4008-ee5e-3e322bb47b64"
      },
      "execution_count": null,
      "outputs": [
        {
          "output_type": "stream",
          "name": "stdout",
          "text": [
            "Requirement already satisfied: SpeechRecognition in /usr/local/lib/python3.11/dist-packages (3.14.1)\n",
            "Requirement already satisfied: typing-extensions in /usr/local/lib/python3.11/dist-packages (from SpeechRecognition) (4.12.2)\n",
            "Requirement already satisfied: pydub in /usr/local/lib/python3.11/dist-packages (0.25.1)\n",
            "Requirement already satisfied: googletrans==4.0.0-rc1 in /usr/local/lib/python3.11/dist-packages (4.0.0rc1)\n",
            "Requirement already satisfied: httpx==0.13.3 in /usr/local/lib/python3.11/dist-packages (from googletrans==4.0.0-rc1) (0.13.3)\n",
            "Requirement already satisfied: certifi in /usr/local/lib/python3.11/dist-packages (from httpx==0.13.3->googletrans==4.0.0-rc1) (2024.12.14)\n",
            "Requirement already satisfied: hstspreload in /usr/local/lib/python3.11/dist-packages (from httpx==0.13.3->googletrans==4.0.0-rc1) (2025.1.1)\n",
            "Requirement already satisfied: sniffio in /usr/local/lib/python3.11/dist-packages (from httpx==0.13.3->googletrans==4.0.0-rc1) (1.3.1)\n",
            "Requirement already satisfied: chardet==3.* in /usr/local/lib/python3.11/dist-packages (from httpx==0.13.3->googletrans==4.0.0-rc1) (3.0.4)\n",
            "Requirement already satisfied: idna==2.* in /usr/local/lib/python3.11/dist-packages (from httpx==0.13.3->googletrans==4.0.0-rc1) (2.10)\n",
            "Requirement already satisfied: rfc3986<2,>=1.3 in /usr/local/lib/python3.11/dist-packages (from httpx==0.13.3->googletrans==4.0.0-rc1) (1.5.0)\n",
            "Requirement already satisfied: httpcore==0.9.* in /usr/local/lib/python3.11/dist-packages (from httpx==0.13.3->googletrans==4.0.0-rc1) (0.9.1)\n",
            "Requirement already satisfied: h11<0.10,>=0.8 in /usr/local/lib/python3.11/dist-packages (from httpcore==0.9.*->httpx==0.13.3->googletrans==4.0.0-rc1) (0.9.0)\n",
            "Requirement already satisfied: h2==3.* in /usr/local/lib/python3.11/dist-packages (from httpcore==0.9.*->httpx==0.13.3->googletrans==4.0.0-rc1) (3.2.0)\n",
            "Requirement already satisfied: hyperframe<6,>=5.2.0 in /usr/local/lib/python3.11/dist-packages (from h2==3.*->httpcore==0.9.*->httpx==0.13.3->googletrans==4.0.0-rc1) (5.2.0)\n",
            "Requirement already satisfied: hpack<4,>=3.0 in /usr/local/lib/python3.11/dist-packages (from h2==3.*->httpcore==0.9.*->httpx==0.13.3->googletrans==4.0.0-rc1) (3.0.0)\n",
            "\n",
            "Texto Transcrito:\n",
            "--------------------\n",
            "Ciao Benvenuto E sentiti a casa\n",
            "\n",
            "\n",
            "Tradução para o Português:\n",
            "-----------------------------\n",
            "Olá, bem -vindo e sinta -se em casa\n",
            "\n"
          ]
        }
      ]
    },
    {
      "cell_type": "markdown",
      "source": [
        "**Observação:** O código do módulo 2 só vai funcionar rodando em um editor(ex: VsCode) de código em uma máquina local, por causa do sistema de automação ter que acessar o navegador. Eu deixei esse módulo disponível aqui para facilitar a concentração dos módulos em um endereço só de acesso."
      ],
      "metadata": {
        "id": "qaqUi_lPqoLf"
      }
    },
    {
      "cell_type": "markdown",
      "source": [
        "# Módulo 2 - Acionar por comando de voz a abertura do Google Notícias"
      ],
      "metadata": {
        "id": "-raMaGPnx4O8"
      }
    },
    {
      "cell_type": "code",
      "source": [
        "import speech_recognition as sr\n",
        "import pyautogui\n",
        "import webbrowser\n",
        "import time\n",
        "\n",
        "# Função para abrir o Google Notícias e entrar no menu Mundo\n",
        "def abrir_google_noticias():\n",
        "    # Abrir o Google Notícias\n",
        "    url = \"https://news.google.com/topstories?hl=pt-BR&gl=BR&ceid=BR:pt-419\"\n",
        "    webbrowser.open(url)\n",
        "\n",
        "    # Aguardar mais tempo para carregamento completo\n",
        "    time.sleep(5)\n",
        "\n",
        "    # Simular clique no menu \"Mundo\" (ajuste as coordenadas x, y conforme necessário)\n",
        "    pyautogui.click(x=931, y=228)  # Troque 200, 300 pelas coordenadas corretas\n",
        "\n",
        "# Função para reconhecer o comando de voz\n",
        "def reconhecer_comando():\n",
        "    # Criar um objeto Recognizer\n",
        "    r = sr.Recognizer()\n",
        "\n",
        "    # Usar o microfone como fonte de áudio\n",
        "    with sr.Microphone() as source:\n",
        "        print(\"Por favor, fale um comando:\")\n",
        "        audio = r.listen(source)\n",
        "\n",
        "        try:\n",
        "            # Reconhecer o comando de voz\n",
        "            comando = r.recognize_google(audio, language=\"pt-BR\").lower()\n",
        "\n",
        "            # Verificar se o comando é para abrir o Google Notícias\n",
        "            if \"abrir google notícias\" in comando or \"notícias do google\" in comando:\n",
        "                abrir_google_noticias()\n",
        "            else:\n",
        "                print(\"Comando não reconhecido.\")\n",
        "\n",
        "        except sr.UnknownValueError:\n",
        "            print(\"Não foi possível reconhecer o comando.\")\n",
        "\n",
        "# Executar a função para reconhecer o comando de voz\n",
        "reconhecer_comando()\n"
      ],
      "metadata": {
        "id": "KhDpgjLa0DyK"
      },
      "execution_count": null,
      "outputs": []
    }
  ]
}